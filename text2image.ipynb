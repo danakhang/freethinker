{
  "nbformat": 4,
  "nbformat_minor": 0,
  "metadata": {
    "colab": {
      "provenance": [],
      "collapsed_sections": [],
      "authorship_tag": "ABX9TyNacQH6TyJmK/puJcMmdf2W",
      "include_colab_link": true
    },
    "kernelspec": {
      "name": "python3",
      "display_name": "Python 3"
    },
    "language_info": {
      "name": "python"
    },
    "accelerator": "GPU",
    "widgets": {
      "application/vnd.jupyter.widget-state+json": {
        "23e7b4aa113742cdbb05427ebd7098b9": {
          "model_module": "@jupyter-widgets/controls",
          "model_name": "HBoxModel",
          "model_module_version": "1.5.0",
          "state": {
            "_dom_classes": [],
            "_model_module": "@jupyter-widgets/controls",
            "_model_module_version": "1.5.0",
            "_model_name": "HBoxModel",
            "_view_count": null,
            "_view_module": "@jupyter-widgets/controls",
            "_view_module_version": "1.5.0",
            "_view_name": "HBoxView",
            "box_style": "",
            "children": [
              "IPY_MODEL_5f8246dbefcc4fd692b9d4d53184f382",
              "IPY_MODEL_8c30ff2d177c4aaa8c51e482882e8200",
              "IPY_MODEL_203fd99c07b740d393721759057ebd4c"
            ],
            "layout": "IPY_MODEL_51e222ef81d9430b94698d1ca403c559"
          }
        },
        "5f8246dbefcc4fd692b9d4d53184f382": {
          "model_module": "@jupyter-widgets/controls",
          "model_name": "HTMLModel",
          "model_module_version": "1.5.0",
          "state": {
            "_dom_classes": [],
            "_model_module": "@jupyter-widgets/controls",
            "_model_module_version": "1.5.0",
            "_model_name": "HTMLModel",
            "_view_count": null,
            "_view_module": "@jupyter-widgets/controls",
            "_view_module_version": "1.5.0",
            "_view_name": "HTMLView",
            "description": "",
            "description_tooltip": null,
            "layout": "IPY_MODEL_1a40966e32fc446ab23169413ad3f82e",
            "placeholder": "​",
            "style": "IPY_MODEL_b3150964e35444b797c27fec2cac4c3b",
            "value": ""
          }
        },
        "8c30ff2d177c4aaa8c51e482882e8200": {
          "model_module": "@jupyter-widgets/controls",
          "model_name": "FloatProgressModel",
          "model_module_version": "1.5.0",
          "state": {
            "_dom_classes": [],
            "_model_module": "@jupyter-widgets/controls",
            "_model_module_version": "1.5.0",
            "_model_name": "FloatProgressModel",
            "_view_count": null,
            "_view_module": "@jupyter-widgets/controls",
            "_view_module_version": "1.5.0",
            "_view_name": "ProgressView",
            "bar_style": "success",
            "description": "",
            "description_tooltip": null,
            "layout": "IPY_MODEL_66f427277e474dcda3c640aaa629e4d6",
            "max": 1,
            "min": 0,
            "orientation": "horizontal",
            "style": "IPY_MODEL_86b7cd859c8946cc8154c35b1ed7fbd8",
            "value": 0
          }
        },
        "203fd99c07b740d393721759057ebd4c": {
          "model_module": "@jupyter-widgets/controls",
          "model_name": "HTMLModel",
          "model_module_version": "1.5.0",
          "state": {
            "_dom_classes": [],
            "_model_module": "@jupyter-widgets/controls",
            "_model_module_version": "1.5.0",
            "_model_name": "HTMLModel",
            "_view_count": null,
            "_view_module": "@jupyter-widgets/controls",
            "_view_module_version": "1.5.0",
            "_view_name": "HTMLView",
            "description": "",
            "description_tooltip": null,
            "layout": "IPY_MODEL_2c782d250d244e4e8a255fd0d56139af",
            "placeholder": "​",
            "style": "IPY_MODEL_a3412e6fef544e798ee1d1596210486a",
            "value": " 0/0 [00:00&lt;?, ?it/s]"
          }
        },
        "51e222ef81d9430b94698d1ca403c559": {
          "model_module": "@jupyter-widgets/base",
          "model_name": "LayoutModel",
          "model_module_version": "1.2.0",
          "state": {
            "_model_module": "@jupyter-widgets/base",
            "_model_module_version": "1.2.0",
            "_model_name": "LayoutModel",
            "_view_count": null,
            "_view_module": "@jupyter-widgets/base",
            "_view_module_version": "1.2.0",
            "_view_name": "LayoutView",
            "align_content": null,
            "align_items": null,
            "align_self": null,
            "border": null,
            "bottom": null,
            "display": null,
            "flex": null,
            "flex_flow": null,
            "grid_area": null,
            "grid_auto_columns": null,
            "grid_auto_flow": null,
            "grid_auto_rows": null,
            "grid_column": null,
            "grid_gap": null,
            "grid_row": null,
            "grid_template_areas": null,
            "grid_template_columns": null,
            "grid_template_rows": null,
            "height": null,
            "justify_content": null,
            "justify_items": null,
            "left": null,
            "margin": null,
            "max_height": null,
            "max_width": null,
            "min_height": null,
            "min_width": null,
            "object_fit": null,
            "object_position": null,
            "order": null,
            "overflow": null,
            "overflow_x": null,
            "overflow_y": null,
            "padding": null,
            "right": null,
            "top": null,
            "visibility": null,
            "width": null
          }
        },
        "1a40966e32fc446ab23169413ad3f82e": {
          "model_module": "@jupyter-widgets/base",
          "model_name": "LayoutModel",
          "model_module_version": "1.2.0",
          "state": {
            "_model_module": "@jupyter-widgets/base",
            "_model_module_version": "1.2.0",
            "_model_name": "LayoutModel",
            "_view_count": null,
            "_view_module": "@jupyter-widgets/base",
            "_view_module_version": "1.2.0",
            "_view_name": "LayoutView",
            "align_content": null,
            "align_items": null,
            "align_self": null,
            "border": null,
            "bottom": null,
            "display": null,
            "flex": null,
            "flex_flow": null,
            "grid_area": null,
            "grid_auto_columns": null,
            "grid_auto_flow": null,
            "grid_auto_rows": null,
            "grid_column": null,
            "grid_gap": null,
            "grid_row": null,
            "grid_template_areas": null,
            "grid_template_columns": null,
            "grid_template_rows": null,
            "height": null,
            "justify_content": null,
            "justify_items": null,
            "left": null,
            "margin": null,
            "max_height": null,
            "max_width": null,
            "min_height": null,
            "min_width": null,
            "object_fit": null,
            "object_position": null,
            "order": null,
            "overflow": null,
            "overflow_x": null,
            "overflow_y": null,
            "padding": null,
            "right": null,
            "top": null,
            "visibility": null,
            "width": null
          }
        },
        "b3150964e35444b797c27fec2cac4c3b": {
          "model_module": "@jupyter-widgets/controls",
          "model_name": "DescriptionStyleModel",
          "model_module_version": "1.5.0",
          "state": {
            "_model_module": "@jupyter-widgets/controls",
            "_model_module_version": "1.5.0",
            "_model_name": "DescriptionStyleModel",
            "_view_count": null,
            "_view_module": "@jupyter-widgets/base",
            "_view_module_version": "1.2.0",
            "_view_name": "StyleView",
            "description_width": ""
          }
        },
        "66f427277e474dcda3c640aaa629e4d6": {
          "model_module": "@jupyter-widgets/base",
          "model_name": "LayoutModel",
          "model_module_version": "1.2.0",
          "state": {
            "_model_module": "@jupyter-widgets/base",
            "_model_module_version": "1.2.0",
            "_model_name": "LayoutModel",
            "_view_count": null,
            "_view_module": "@jupyter-widgets/base",
            "_view_module_version": "1.2.0",
            "_view_name": "LayoutView",
            "align_content": null,
            "align_items": null,
            "align_self": null,
            "border": null,
            "bottom": null,
            "display": null,
            "flex": null,
            "flex_flow": null,
            "grid_area": null,
            "grid_auto_columns": null,
            "grid_auto_flow": null,
            "grid_auto_rows": null,
            "grid_column": null,
            "grid_gap": null,
            "grid_row": null,
            "grid_template_areas": null,
            "grid_template_columns": null,
            "grid_template_rows": null,
            "height": null,
            "justify_content": null,
            "justify_items": null,
            "left": null,
            "margin": null,
            "max_height": null,
            "max_width": null,
            "min_height": null,
            "min_width": null,
            "object_fit": null,
            "object_position": null,
            "order": null,
            "overflow": null,
            "overflow_x": null,
            "overflow_y": null,
            "padding": null,
            "right": null,
            "top": null,
            "visibility": null,
            "width": "20px"
          }
        },
        "86b7cd859c8946cc8154c35b1ed7fbd8": {
          "model_module": "@jupyter-widgets/controls",
          "model_name": "ProgressStyleModel",
          "model_module_version": "1.5.0",
          "state": {
            "_model_module": "@jupyter-widgets/controls",
            "_model_module_version": "1.5.0",
            "_model_name": "ProgressStyleModel",
            "_view_count": null,
            "_view_module": "@jupyter-widgets/base",
            "_view_module_version": "1.2.0",
            "_view_name": "StyleView",
            "bar_color": null,
            "description_width": ""
          }
        },
        "2c782d250d244e4e8a255fd0d56139af": {
          "model_module": "@jupyter-widgets/base",
          "model_name": "LayoutModel",
          "model_module_version": "1.2.0",
          "state": {
            "_model_module": "@jupyter-widgets/base",
            "_model_module_version": "1.2.0",
            "_model_name": "LayoutModel",
            "_view_count": null,
            "_view_module": "@jupyter-widgets/base",
            "_view_module_version": "1.2.0",
            "_view_name": "LayoutView",
            "align_content": null,
            "align_items": null,
            "align_self": null,
            "border": null,
            "bottom": null,
            "display": null,
            "flex": null,
            "flex_flow": null,
            "grid_area": null,
            "grid_auto_columns": null,
            "grid_auto_flow": null,
            "grid_auto_rows": null,
            "grid_column": null,
            "grid_gap": null,
            "grid_row": null,
            "grid_template_areas": null,
            "grid_template_columns": null,
            "grid_template_rows": null,
            "height": null,
            "justify_content": null,
            "justify_items": null,
            "left": null,
            "margin": null,
            "max_height": null,
            "max_width": null,
            "min_height": null,
            "min_width": null,
            "object_fit": null,
            "object_position": null,
            "order": null,
            "overflow": null,
            "overflow_x": null,
            "overflow_y": null,
            "padding": null,
            "right": null,
            "top": null,
            "visibility": null,
            "width": null
          }
        },
        "a3412e6fef544e798ee1d1596210486a": {
          "model_module": "@jupyter-widgets/controls",
          "model_name": "DescriptionStyleModel",
          "model_module_version": "1.5.0",
          "state": {
            "_model_module": "@jupyter-widgets/controls",
            "_model_module_version": "1.5.0",
            "_model_name": "DescriptionStyleModel",
            "_view_count": null,
            "_view_module": "@jupyter-widgets/base",
            "_view_module_version": "1.2.0",
            "_view_name": "StyleView",
            "description_width": ""
          }
        },
        "99cea656988944e2a905c94b5ad8051e": {
          "model_module": "@jupyter-widgets/controls",
          "model_name": "HBoxModel",
          "model_module_version": "1.5.0",
          "state": {
            "_dom_classes": [],
            "_model_module": "@jupyter-widgets/controls",
            "_model_module_version": "1.5.0",
            "_model_name": "HBoxModel",
            "_view_count": null,
            "_view_module": "@jupyter-widgets/controls",
            "_view_module_version": "1.5.0",
            "_view_name": "HBoxView",
            "box_style": "",
            "children": [
              "IPY_MODEL_2d43541c9e914c20a033900f216c6c3f",
              "IPY_MODEL_5a7bd2f5064440059618189435bc5656",
              "IPY_MODEL_7856f9547653491c89230f2988b5ec28"
            ],
            "layout": "IPY_MODEL_62772d24f12540fc8ed32f0d30daa65d"
          }
        },
        "2d43541c9e914c20a033900f216c6c3f": {
          "model_module": "@jupyter-widgets/controls",
          "model_name": "HTMLModel",
          "model_module_version": "1.5.0",
          "state": {
            "_dom_classes": [],
            "_model_module": "@jupyter-widgets/controls",
            "_model_module_version": "1.5.0",
            "_model_name": "HTMLModel",
            "_view_count": null,
            "_view_module": "@jupyter-widgets/controls",
            "_view_module_version": "1.5.0",
            "_view_name": "HTMLView",
            "description": "",
            "description_tooltip": null,
            "layout": "IPY_MODEL_58f1df61ca6042928ed3f52686a5ca62",
            "placeholder": "​",
            "style": "IPY_MODEL_ec2861d627254845a46c5f39d1b75fe5",
            "value": " 17%"
          }
        },
        "5a7bd2f5064440059618189435bc5656": {
          "model_module": "@jupyter-widgets/controls",
          "model_name": "FloatProgressModel",
          "model_module_version": "1.5.0",
          "state": {
            "_dom_classes": [],
            "_model_module": "@jupyter-widgets/controls",
            "_model_module_version": "1.5.0",
            "_model_name": "FloatProgressModel",
            "_view_count": null,
            "_view_module": "@jupyter-widgets/controls",
            "_view_module_version": "1.5.0",
            "_view_name": "ProgressView",
            "bar_style": "",
            "description": "",
            "description_tooltip": null,
            "layout": "IPY_MODEL_b571e2dbf9b84d3198c12d497361f546",
            "max": 6,
            "min": 0,
            "orientation": "horizontal",
            "style": "IPY_MODEL_81438c05483e492a8e00139d935c0bce",
            "value": 1
          }
        },
        "7856f9547653491c89230f2988b5ec28": {
          "model_module": "@jupyter-widgets/controls",
          "model_name": "HTMLModel",
          "model_module_version": "1.5.0",
          "state": {
            "_dom_classes": [],
            "_model_module": "@jupyter-widgets/controls",
            "_model_module_version": "1.5.0",
            "_model_name": "HTMLModel",
            "_view_count": null,
            "_view_module": "@jupyter-widgets/controls",
            "_view_module_version": "1.5.0",
            "_view_name": "HTMLView",
            "description": "",
            "description_tooltip": null,
            "layout": "IPY_MODEL_6ea9769294ae4d55b427ba55e33c1ca4",
            "placeholder": "​",
            "style": "IPY_MODEL_619b178415a14ca3a8ca9fa8685c8fd7",
            "value": " 1/6 [09:17&lt;46:29, 557.95s/it]"
          }
        },
        "62772d24f12540fc8ed32f0d30daa65d": {
          "model_module": "@jupyter-widgets/base",
          "model_name": "LayoutModel",
          "model_module_version": "1.2.0",
          "state": {
            "_model_module": "@jupyter-widgets/base",
            "_model_module_version": "1.2.0",
            "_model_name": "LayoutModel",
            "_view_count": null,
            "_view_module": "@jupyter-widgets/base",
            "_view_module_version": "1.2.0",
            "_view_name": "LayoutView",
            "align_content": null,
            "align_items": null,
            "align_self": null,
            "border": null,
            "bottom": null,
            "display": null,
            "flex": null,
            "flex_flow": null,
            "grid_area": null,
            "grid_auto_columns": null,
            "grid_auto_flow": null,
            "grid_auto_rows": null,
            "grid_column": null,
            "grid_gap": null,
            "grid_row": null,
            "grid_template_areas": null,
            "grid_template_columns": null,
            "grid_template_rows": null,
            "height": null,
            "justify_content": null,
            "justify_items": null,
            "left": null,
            "margin": null,
            "max_height": null,
            "max_width": null,
            "min_height": null,
            "min_width": null,
            "object_fit": null,
            "object_position": null,
            "order": null,
            "overflow": null,
            "overflow_x": null,
            "overflow_y": null,
            "padding": null,
            "right": null,
            "top": null,
            "visibility": null,
            "width": null
          }
        },
        "58f1df61ca6042928ed3f52686a5ca62": {
          "model_module": "@jupyter-widgets/base",
          "model_name": "LayoutModel",
          "model_module_version": "1.2.0",
          "state": {
            "_model_module": "@jupyter-widgets/base",
            "_model_module_version": "1.2.0",
            "_model_name": "LayoutModel",
            "_view_count": null,
            "_view_module": "@jupyter-widgets/base",
            "_view_module_version": "1.2.0",
            "_view_name": "LayoutView",
            "align_content": null,
            "align_items": null,
            "align_self": null,
            "border": null,
            "bottom": null,
            "display": null,
            "flex": null,
            "flex_flow": null,
            "grid_area": null,
            "grid_auto_columns": null,
            "grid_auto_flow": null,
            "grid_auto_rows": null,
            "grid_column": null,
            "grid_gap": null,
            "grid_row": null,
            "grid_template_areas": null,
            "grid_template_columns": null,
            "grid_template_rows": null,
            "height": null,
            "justify_content": null,
            "justify_items": null,
            "left": null,
            "margin": null,
            "max_height": null,
            "max_width": null,
            "min_height": null,
            "min_width": null,
            "object_fit": null,
            "object_position": null,
            "order": null,
            "overflow": null,
            "overflow_x": null,
            "overflow_y": null,
            "padding": null,
            "right": null,
            "top": null,
            "visibility": null,
            "width": null
          }
        },
        "ec2861d627254845a46c5f39d1b75fe5": {
          "model_module": "@jupyter-widgets/controls",
          "model_name": "DescriptionStyleModel",
          "model_module_version": "1.5.0",
          "state": {
            "_model_module": "@jupyter-widgets/controls",
            "_model_module_version": "1.5.0",
            "_model_name": "DescriptionStyleModel",
            "_view_count": null,
            "_view_module": "@jupyter-widgets/base",
            "_view_module_version": "1.2.0",
            "_view_name": "StyleView",
            "description_width": ""
          }
        },
        "b571e2dbf9b84d3198c12d497361f546": {
          "model_module": "@jupyter-widgets/base",
          "model_name": "LayoutModel",
          "model_module_version": "1.2.0",
          "state": {
            "_model_module": "@jupyter-widgets/base",
            "_model_module_version": "1.2.0",
            "_model_name": "LayoutModel",
            "_view_count": null,
            "_view_module": "@jupyter-widgets/base",
            "_view_module_version": "1.2.0",
            "_view_name": "LayoutView",
            "align_content": null,
            "align_items": null,
            "align_self": null,
            "border": null,
            "bottom": null,
            "display": null,
            "flex": null,
            "flex_flow": null,
            "grid_area": null,
            "grid_auto_columns": null,
            "grid_auto_flow": null,
            "grid_auto_rows": null,
            "grid_column": null,
            "grid_gap": null,
            "grid_row": null,
            "grid_template_areas": null,
            "grid_template_columns": null,
            "grid_template_rows": null,
            "height": null,
            "justify_content": null,
            "justify_items": null,
            "left": null,
            "margin": null,
            "max_height": null,
            "max_width": null,
            "min_height": null,
            "min_width": null,
            "object_fit": null,
            "object_position": null,
            "order": null,
            "overflow": null,
            "overflow_x": null,
            "overflow_y": null,
            "padding": null,
            "right": null,
            "top": null,
            "visibility": null,
            "width": null
          }
        },
        "81438c05483e492a8e00139d935c0bce": {
          "model_module": "@jupyter-widgets/controls",
          "model_name": "ProgressStyleModel",
          "model_module_version": "1.5.0",
          "state": {
            "_model_module": "@jupyter-widgets/controls",
            "_model_module_version": "1.5.0",
            "_model_name": "ProgressStyleModel",
            "_view_count": null,
            "_view_module": "@jupyter-widgets/base",
            "_view_module_version": "1.2.0",
            "_view_name": "StyleView",
            "bar_color": null,
            "description_width": ""
          }
        },
        "6ea9769294ae4d55b427ba55e33c1ca4": {
          "model_module": "@jupyter-widgets/base",
          "model_name": "LayoutModel",
          "model_module_version": "1.2.0",
          "state": {
            "_model_module": "@jupyter-widgets/base",
            "_model_module_version": "1.2.0",
            "_model_name": "LayoutModel",
            "_view_count": null,
            "_view_module": "@jupyter-widgets/base",
            "_view_module_version": "1.2.0",
            "_view_name": "LayoutView",
            "align_content": null,
            "align_items": null,
            "align_self": null,
            "border": null,
            "bottom": null,
            "display": null,
            "flex": null,
            "flex_flow": null,
            "grid_area": null,
            "grid_auto_columns": null,
            "grid_auto_flow": null,
            "grid_auto_rows": null,
            "grid_column": null,
            "grid_gap": null,
            "grid_row": null,
            "grid_template_areas": null,
            "grid_template_columns": null,
            "grid_template_rows": null,
            "height": null,
            "justify_content": null,
            "justify_items": null,
            "left": null,
            "margin": null,
            "max_height": null,
            "max_width": null,
            "min_height": null,
            "min_width": null,
            "object_fit": null,
            "object_position": null,
            "order": null,
            "overflow": null,
            "overflow_x": null,
            "overflow_y": null,
            "padding": null,
            "right": null,
            "top": null,
            "visibility": null,
            "width": null
          }
        },
        "619b178415a14ca3a8ca9fa8685c8fd7": {
          "model_module": "@jupyter-widgets/controls",
          "model_name": "DescriptionStyleModel",
          "model_module_version": "1.5.0",
          "state": {
            "_model_module": "@jupyter-widgets/controls",
            "_model_module_version": "1.5.0",
            "_model_name": "DescriptionStyleModel",
            "_view_count": null,
            "_view_module": "@jupyter-widgets/base",
            "_view_module_version": "1.2.0",
            "_view_name": "StyleView",
            "description_width": ""
          }
        }
      }
    }
  },
  "cells": [
    {
      "cell_type": "markdown",
      "metadata": {
        "id": "view-in-github",
        "colab_type": "text"
      },
      "source": [
        "<a href=\"https://colab.research.google.com/github/danakhang/freethinker/blob/main/text2image.ipynb\" target=\"_parent\"><img src=\"https://colab.research.google.com/assets/colab-badge.svg\" alt=\"Open In Colab\"/></a>"
      ]
    },
    {
      "cell_type": "markdown",
      "source": [
        "#set up\n"
      ],
      "metadata": {
        "id": "m29Ik1zlJiFD"
      }
    },
    {
      "cell_type": "code",
      "execution_count": 5,
      "metadata": {
        "id": "_O7Q-zpWHOvF"
      },
      "outputs": [],
      "source": [
        "import jax\n",
        "import jax.numpy as jnp"
      ]
    },
    {
      "cell_type": "code",
      "source": [
        "jax.local_device_count()"
      ],
      "metadata": {
        "colab": {
          "base_uri": "https://localhost:8080/"
        },
        "id": "HoBx_7yRKhIW",
        "outputId": "eb24f854-2b36-4254-817f-7310f63637d4"
      },
      "execution_count": 6,
      "outputs": [
        {
          "output_type": "stream",
          "name": "stderr",
          "text": [
            "WARNING:absl:No GPU/TPU found, falling back to CPU. (Set TF_CPP_MIN_LOG_LEVEL=0 and rerun for more info.)\n"
          ]
        },
        {
          "output_type": "execute_result",
          "data": {
            "text/plain": [
              "1"
            ]
          },
          "metadata": {},
          "execution_count": 6
        }
      ]
    },
    {
      "cell_type": "code",
      "source": [
        "jax.devices()"
      ],
      "metadata": {
        "colab": {
          "base_uri": "https://localhost:8080/"
        },
        "id": "GjWtIwwFKgwV",
        "outputId": "f9cd0f78-cf9f-4d35-8960-1f13e85dfb44"
      },
      "execution_count": 7,
      "outputs": [
        {
          "output_type": "execute_result",
          "data": {
            "text/plain": [
              "[CpuDevice(id=0)]"
            ]
          },
          "metadata": {},
          "execution_count": 7
        }
      ]
    },
    {
      "cell_type": "code",
      "source": [
        "!pip install -q dalle-mini"
      ],
      "metadata": {
        "id": "CbGrgtcUKzbJ"
      },
      "execution_count": 8,
      "outputs": []
    },
    {
      "cell_type": "code",
      "source": [
        "!pip install -q git+https://github.com/patil-suraj/vqgan-jax.git"
      ],
      "metadata": {
        "id": "YJEQi1UbKzN3"
      },
      "execution_count": 9,
      "outputs": []
    },
    {
      "cell_type": "code",
      "source": [
        "from dalle_mini import DalleBart, DalleBartProcessor\n",
        "from vqgan_jax.modeling_flax_vqgan import VQModel\n",
        "from transformers import CLIPProcessor, FlaxCLIPModel"
      ],
      "metadata": {
        "id": "g2iUJqvxLgYa",
        "colab": {
          "base_uri": "https://localhost:8080/",
          "height": 0,
          "referenced_widgets": [
            "23e7b4aa113742cdbb05427ebd7098b9",
            "5f8246dbefcc4fd692b9d4d53184f382",
            "8c30ff2d177c4aaa8c51e482882e8200",
            "203fd99c07b740d393721759057ebd4c",
            "51e222ef81d9430b94698d1ca403c559",
            "1a40966e32fc446ab23169413ad3f82e",
            "b3150964e35444b797c27fec2cac4c3b",
            "66f427277e474dcda3c640aaa629e4d6",
            "86b7cd859c8946cc8154c35b1ed7fbd8",
            "2c782d250d244e4e8a255fd0d56139af",
            "a3412e6fef544e798ee1d1596210486a"
          ]
        },
        "outputId": "b0d9ea3a-a556-4e2d-fcd8-9564603b4582"
      },
      "execution_count": 10,
      "outputs": [
        {
          "output_type": "stream",
          "name": "stderr",
          "text": [
            "The cache for model files in Transformers v4.22.0 has been updated. Migrating your old cache. This is a one-time only operation. You can interrupt this and resume the migration later on by calling `transformers.utils.move_cache()`.\n"
          ]
        },
        {
          "output_type": "stream",
          "name": "stdout",
          "text": [
            "Moving 0 files to the new cache system\n"
          ]
        },
        {
          "output_type": "display_data",
          "data": {
            "text/plain": [
              "0it [00:00, ?it/s]"
            ],
            "application/vnd.jupyter.widget-view+json": {
              "version_major": 2,
              "version_minor": 0,
              "model_id": "23e7b4aa113742cdbb05427ebd7098b9"
            }
          },
          "metadata": {}
        }
      ]
    },
    {
      "cell_type": "code",
      "source": [
        "from huggingface_hub import hf_hub_url, cached_download, hf_hub_download"
      ],
      "metadata": {
        "id": "SG5ok4D1LgK2"
      },
      "execution_count": 11,
      "outputs": []
    },
    {
      "cell_type": "code",
      "source": [
        "dalle_mini_files_list = ['config.json', 'tokenizer.json', \n",
        "             'tokenizer_config.json', 'merges.txt', 'vocab.json', \n",
        "             'special_tokens_map.json', 'enwiki-words-frequency.txt', \n",
        "             'flax_model.msgpack']"
      ],
      "metadata": {
        "id": "sIQvqSuYLfob"
      },
      "execution_count": 12,
      "outputs": []
    },
    {
      "cell_type": "code",
      "source": [
        "import shutil"
      ],
      "metadata": {
        "id": "1aK0QTVQQTRh"
      },
      "execution_count": 13,
      "outputs": []
    },
    {
      "cell_type": "code",
      "source": [
        "for each_file in dalle_mini_files_list:\n",
        "  downloaded_file = hf_hub_download(\"dalle-mini/dalle-mini\", filename=each_file)\n",
        "  target_path = '/content/dalle-mini/' + each_file\n",
        "  shutil.copy(downloaded_file, target_path)"
      ],
      "metadata": {
        "id": "En1JrbVePe0-"
      },
      "execution_count": 14,
      "outputs": []
    },
    {
      "cell_type": "code",
      "source": [
        "!ls -lah /content/dalle-mini"
      ],
      "metadata": {
        "colab": {
          "base_uri": "https://localhost:8080/"
        },
        "id": "-YPz-xI4Pepf",
        "outputId": "fea1636e-ecf3-415d-e3b3-f59c9029aa28"
      },
      "execution_count": 15,
      "outputs": [
        {
          "output_type": "stream",
          "name": "stdout",
          "text": [
            "total 1.7G\n",
            "drwxr-xr-x 4 root root 4.0K Sep 29 22:14 .\n",
            "drwxr-xr-x 1 root root 4.0K Sep 29 22:13 ..\n",
            "-rw------- 1 root root 1.3K Sep 29 22:24 config.json\n",
            "-rw------- 1 root root  33M Sep 29 22:24 enwiki-words-frequency.txt\n",
            "-rw------- 1 root root 1.7G Sep 29 22:24 flax_model.msgpack\n",
            "drwxr-xr-x 2 root root 4.0K Sep 29 22:13 .ipynb_checkpoints\n",
            "-rw------- 1 root root 450K Sep 29 22:24 merges.txt\n",
            "-rw------- 1 root root  239 Sep 29 22:24 special_tokens_map.json\n",
            "-rw------- 1 root root  497 Sep 29 22:24 tokenizer_config.json\n",
            "-rw------- 1 root root 2.1M Sep 29 22:24 tokenizer.json\n",
            "-rw------- 1 root root 783K Sep 29 22:24 vocab.json\n",
            "drwxr-xr-x 2 root root 4.0K Sep 29 22:14 vqgan\n"
          ]
        }
      ]
    },
    {
      "cell_type": "code",
      "source": [
        "vqgan_files_list = ['config.json',  'flax_model.msgpack']"
      ],
      "metadata": {
        "id": "O-x16S__SA55"
      },
      "execution_count": 16,
      "outputs": []
    },
    {
      "cell_type": "code",
      "source": [
        "for each_file in vqgan_files_list:\n",
        "  downloaded_file = hf_hub_download(\"dalle-mini/vqgan_imagenet_f16_16384\", filename=each_file)\n",
        "  target_path = '/content/dalle-mini/vqgan/' + each_file\n",
        "  shutil.copy(downloaded_file, target_path)"
      ],
      "metadata": {
        "id": "tGO7boMNSAvi"
      },
      "execution_count": 17,
      "outputs": []
    },
    {
      "cell_type": "code",
      "source": [
        "!ls -lah /content/dalle-mini/vqgan"
      ],
      "metadata": {
        "colab": {
          "base_uri": "https://localhost:8080/"
        },
        "id": "75pOCwxJSM3W",
        "outputId": "f4256659-6c8c-4fa7-efac-52179c986f18"
      },
      "execution_count": 18,
      "outputs": [
        {
          "output_type": "stream",
          "name": "stdout",
          "text": [
            "total 291M\n",
            "drwxr-xr-x 2 root root 4.0K Sep 29 22:14 .\n",
            "drwxr-xr-x 4 root root 4.0K Sep 29 22:14 ..\n",
            "-rw------- 1 root root  434 Sep 29 22:24 config.json\n",
            "-rw------- 1 root root 291M Sep 29 22:24 flax_model.msgpack\n"
          ]
        }
      ]
    },
    {
      "cell_type": "code",
      "source": [
        "DALLE_MODEL_LOCATION = '/content/dalle-mini'\n",
        "DALLE_COMMIT_ID = None\n",
        "model, params = DalleBart.from_pretrained(    \n",
        "    DALLE_MODEL_LOCATION, revision=DALLE_COMMIT_ID, dtype=jnp.float16, _do_init=False,\n",
        ")"
      ],
      "metadata": {
        "id": "Q_uhMYCYSMzz"
      },
      "execution_count": 19,
      "outputs": []
    },
    {
      "cell_type": "code",
      "source": [
        "model.config"
      ],
      "metadata": {
        "colab": {
          "base_uri": "https://localhost:8080/"
        },
        "id": "b4BFMU-USMxe",
        "outputId": "b1630fb1-e6dd-41f8-cfa0-44d5a48f916a"
      },
      "execution_count": 20,
      "outputs": [
        {
          "output_type": "execute_result",
          "data": {
            "text/plain": [
              "DalleBartConfig {\n",
              "  \"activation_dropout\": 0.0,\n",
              "  \"activation_function\": \"gelu\",\n",
              "  \"architectures\": [\n",
              "    \"eBart\"\n",
              "  ],\n",
              "  \"attention_dropout\": 0.0,\n",
              "  \"bos_token_id\": 16385,\n",
              "  \"d_model\": 1024,\n",
              "  \"decoder_attention_heads\": 16,\n",
              "  \"decoder_ffn_dim\": 2730,\n",
              "  \"decoder_layers\": 12,\n",
              "  \"decoder_start_token_id\": 16384,\n",
              "  \"do_sample\": true,\n",
              "  \"dropout\": 0.0,\n",
              "  \"encoder_attention_heads\": 16,\n",
              "  \"encoder_ffn_dim\": 2730,\n",
              "  \"encoder_layers\": 12,\n",
              "  \"encoder_vocab_size\": 50264,\n",
              "  \"eos_token_id\": 16385,\n",
              "  \"force_ln_scale\": false,\n",
              "  \"gradient_checkpointing\": true,\n",
              "  \"image_length\": 256,\n",
              "  \"image_vocab_size\": 16384,\n",
              "  \"init_std\": 0.02,\n",
              "  \"is_encoder_decoder\": true,\n",
              "  \"ln_positions\": \"normformer\",\n",
              "  \"ln_type\": \"layernorm\",\n",
              "  \"max_length\": 257,\n",
              "  \"max_text_length\": 64,\n",
              "  \"min_length\": 257,\n",
              "  \"model_type\": \"dallebart\",\n",
              "  \"normalize_text\": true,\n",
              "  \"pad_token_id\": 16385,\n",
              "  \"scale_embedding\": false,\n",
              "  \"sinkhorn_iters\": 1,\n",
              "  \"tau_init\": 0.05,\n",
              "  \"tie_word_embeddings\": false,\n",
              "  \"transformers_version\": \"4.22.2\",\n",
              "  \"use_absolute_position_embeddings\": true,\n",
              "  \"use_alibi\": false,\n",
              "  \"use_bias\": false,\n",
              "  \"use_cache\": true,\n",
              "  \"use_cosine_attention\": false,\n",
              "  \"use_deepnet_scaling\": false,\n",
              "  \"use_final_ln_decoder\": true,\n",
              "  \"use_final_ln_encoder\": true,\n",
              "  \"use_glu\": true,\n",
              "  \"use_head_scale\": false,\n",
              "  \"use_scan\": true,\n",
              "  \"use_swin_position_embeddings\": false\n",
              "}"
            ]
          },
          "metadata": {},
          "execution_count": 20
        }
      ]
    },
    {
      "cell_type": "code",
      "source": [
        "VQGAN_LOCAL_REPO = '/content/dalle-mini/vqgan'\n",
        "VQGAN_LCOAL_COMMIT_ID = None\n",
        "vqgan, vqgan_params = VQModel.from_pretrained(\n",
        "    VQGAN_LOCAL_REPO, revision=VQGAN_LCOAL_COMMIT_ID, _do_init=False\n",
        ")"
      ],
      "metadata": {
        "id": "Zz4gQaVoSWF_"
      },
      "execution_count": 21,
      "outputs": []
    },
    {
      "cell_type": "code",
      "source": [
        "DALLE_MODEL_LOCATION = '/content/dalle-mini'\n",
        "DALLE_COMMIT_ID = None\n",
        "processor = DalleBartProcessor.from_pretrained(\n",
        "    DALLE_MODEL_LOCATION, \n",
        "    revision=DALLE_COMMIT_ID)"
      ],
      "metadata": {
        "id": "Em1Mi8efSWCv"
      },
      "execution_count": 22,
      "outputs": []
    },
    {
      "cell_type": "code",
      "source": [
        "processor"
      ],
      "metadata": {
        "colab": {
          "base_uri": "https://localhost:8080/"
        },
        "id": "RA_k2MGpZyKq",
        "outputId": "1937f8b7-a1e3-4102-bf45-ec186a3a5261"
      },
      "execution_count": 23,
      "outputs": [
        {
          "output_type": "execute_result",
          "data": {
            "text/plain": [
              "<dalle_mini.model.processor.DalleBartProcessor at 0x7f20d9d6e510>"
            ]
          },
          "metadata": {},
          "execution_count": 23
        }
      ]
    },
    {
      "cell_type": "code",
      "source": [
        "# Works for all available devices to replicate the module\n",
        "from flax.jax_utils import replicate\n",
        "\n",
        "params = replicate(params)\n",
        "vqgan_params = replicate(vqgan_params)"
      ],
      "metadata": {
        "id": "YkryFI3YSWAj"
      },
      "execution_count": 24,
      "outputs": []
    },
    {
      "cell_type": "markdown",
      "source": [
        "#Model Inference\n"
      ],
      "metadata": {
        "id": "ODmms0T6Z8R_"
      }
    },
    {
      "cell_type": "code",
      "source": [
        "from functools import partial"
      ],
      "metadata": {
        "id": "pWtcCDFZZ-nq"
      },
      "execution_count": 25,
      "outputs": []
    },
    {
      "cell_type": "code",
      "source": [
        "@partial(jax.pmap, axis_name=\"batch\", static_broadcasted_argnums=(3, 4, 5, 6))\n",
        "def p_generate(\n",
        "    tokenized_prompt, key, params, top_k, top_p, temperature, condition_scale\n",
        "):\n",
        "  return model.generate(\n",
        "      **tokenized_prompt,\n",
        "      prng_key=key,\n",
        "      params=params,\n",
        "      top_k=top_k,\n",
        "      top_p=top_p,\n",
        "      temperature=temperature,\n",
        "      condition_scale=condition_scale,\n",
        "  )"
      ],
      "metadata": {
        "id": "Hr4wJNfhaC9n"
      },
      "execution_count": 26,
      "outputs": []
    },
    {
      "cell_type": "markdown",
      "source": [
        "#Decode Images"
      ],
      "metadata": {
        "id": "4DtaO-GcaH16"
      }
    },
    {
      "cell_type": "code",
      "source": [
        "@partial(jax.pmap, axis_name=\"batch\")\n",
        "def p_decode(indices, params):\n",
        "    return vqgan.decode_code(indices, params=params)"
      ],
      "metadata": {
        "id": "Kwvi0ikkaC6R"
      },
      "execution_count": 27,
      "outputs": []
    },
    {
      "cell_type": "markdown",
      "source": [
        "#Setting up the Text input prompt"
      ],
      "metadata": {
        "id": "ELYEMw1MaLp1"
      }
    },
    {
      "cell_type": "code",
      "source": [
        "prompts = ['vincent van gogh paintings mixed with car paintings']\n",
        "\n",
        "prompts = ['MICHELANGELO paintings mixed with Pink Moon paintings']"
      ],
      "metadata": {
        "id": "Qre2yvBAaC3D"
      },
      "execution_count": 28,
      "outputs": []
    },
    {
      "cell_type": "code",
      "source": [
        "tokenized_prompts = processor(prompts)"
      ],
      "metadata": {
        "id": "yXFnAVIjaCzY"
      },
      "execution_count": 29,
      "outputs": []
    },
    {
      "cell_type": "code",
      "source": [
        "tokenized_prompt = replicate(tokenized_prompts)"
      ],
      "metadata": {
        "id": "dxqDFjciaSEv"
      },
      "execution_count": 30,
      "outputs": []
    },
    {
      "cell_type": "markdown",
      "source": [
        "#Defining model parameters"
      ],
      "metadata": {
        "id": "_VC9tMyAad5y"
      }
    },
    {
      "cell_type": "markdown",
      "source": [
        "##random key"
      ],
      "metadata": {
        "id": "38oHTsriagud"
      }
    },
    {
      "cell_type": "code",
      "source": [
        "import random\n",
        "\n",
        "# create a random key\n",
        "seed = random.randint(0, 2**32 - 1)\n",
        "key = jax.random.PRNGKey(seed)"
      ],
      "metadata": {
        "id": "3guZqWkUajcB"
      },
      "execution_count": 31,
      "outputs": []
    },
    {
      "cell_type": "code",
      "source": [
        "# number of predictions per prompt\n",
        "n_predictions = 6\n",
        "\n",
        "# We can customize generation parameters (see https://huggingface.co/blog/how-to-generate)\n",
        "gen_top_k = None\n",
        "gen_top_p = None\n",
        "temperature = None\n",
        "cond_scale = 10.0"
      ],
      "metadata": {
        "id": "gFI97sDyamBA"
      },
      "execution_count": 32,
      "outputs": []
    },
    {
      "cell_type": "code",
      "source": [
        "from flax.training.common_utils import shard_prng_key\n",
        "import numpy as np\n",
        "from PIL import Image\n",
        "from tqdm.notebook import trange"
      ],
      "metadata": {
        "id": "0m65SNpgal9n"
      },
      "execution_count": 33,
      "outputs": []
    },
    {
      "cell_type": "code",
      "source": [
        "print(f\"Prompts: {prompts}\\n\")"
      ],
      "metadata": {
        "colab": {
          "base_uri": "https://localhost:8080/"
        },
        "id": "khBrsb-BfgMh",
        "outputId": "0ca2eb4f-fb46-484f-ce0b-33d79bd762d4"
      },
      "execution_count": 34,
      "outputs": [
        {
          "output_type": "stream",
          "name": "stdout",
          "text": [
            "Prompts: ['MICHELANGELO paintings mixed with Pink Moon paintings']\n",
            "\n"
          ]
        }
      ]
    },
    {
      "cell_type": "code",
      "source": [
        "images = []\n",
        "for i in trange(max(n_predictions // jax.device_count(), 1)):\n",
        "    # get a new key\n",
        "    key, subkey = jax.random.split(key)\n",
        "    # generate images\n",
        "    encoded_images = p_generate(\n",
        "        tokenized_prompt,\n",
        "        shard_prng_key(subkey),\n",
        "        params,\n",
        "        gen_top_k,\n",
        "        gen_top_p,\n",
        "        temperature,\n",
        "        cond_scale,\n",
        "    )\n",
        "    # remove BOS\n",
        "    encoded_images = encoded_images.sequences[..., 1:]\n",
        "    # decode images\n",
        "    decoded_images = p_decode(encoded_images, vqgan_params)\n",
        "    decoded_images = decoded_images.clip(0.0, 1.0).reshape((-1, 256, 256, 3))\n",
        "    for decoded_img in decoded_images:\n",
        "        img = Image.fromarray(np.asarray(decoded_img * 255, dtype=np.uint8))\n",
        "        images.append(img)\n",
        "        display(img)\n",
        "        print()"
      ],
      "metadata": {
        "colab": {
          "base_uri": "https://localhost:8080/",
          "height": 377,
          "referenced_widgets": [
            "99cea656988944e2a905c94b5ad8051e",
            "2d43541c9e914c20a033900f216c6c3f",
            "5a7bd2f5064440059618189435bc5656",
            "7856f9547653491c89230f2988b5ec28",
            "62772d24f12540fc8ed32f0d30daa65d",
            "58f1df61ca6042928ed3f52686a5ca62",
            "ec2861d627254845a46c5f39d1b75fe5",
            "b571e2dbf9b84d3198c12d497361f546",
            "81438c05483e492a8e00139d935c0bce",
            "6ea9769294ae4d55b427ba55e33c1ca4",
            "619b178415a14ca3a8ca9fa8685c8fd7"
          ]
        },
        "id": "_QJ9rVBgaoy0",
        "outputId": "05e1ca26-12e3-49fd-8509-a2682073ddd3"
      },
      "execution_count": null,
      "outputs": [
        {
          "output_type": "display_data",
          "data": {
            "text/plain": [
              "  0%|          | 0/6 [00:00<?, ?it/s]"
            ],
            "application/vnd.jupyter.widget-view+json": {
              "version_major": 2,
              "version_minor": 0,
              "model_id": "99cea656988944e2a905c94b5ad8051e"
            }
          },
          "metadata": {}
        },
        {
          "output_type": "stream",
          "name": "stderr",
          "text": [
            "/usr/local/lib/python3.7/dist-packages/jax/_src/ops/scatter.py:90: FutureWarning: scatter inputs have incompatible types: cannot safely cast value from dtype=float16 to dtype=float32. In future JAX releases this will result in an error.\n",
            "  FutureWarning)\n"
          ]
        },
        {
          "output_type": "display_data",
          "data": {
            "text/plain": [
              "<PIL.Image.Image image mode=RGB size=256x256 at 0x7F20D939D7D0>"
            ],
            "image/png": "[encoded data removed]"
          },
          "metadata": {}
        },
        {
          "output_type": "stream",
          "name": "stdout",
          "text": [
            "\n"
          ]
        }
      ]
    }
  ]
}